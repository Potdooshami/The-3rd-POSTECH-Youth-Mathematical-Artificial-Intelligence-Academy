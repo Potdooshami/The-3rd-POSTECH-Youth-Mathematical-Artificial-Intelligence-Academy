{
  "nbformat": 4,
  "nbformat_minor": 0,
  "metadata": {
    "colab": {
      "provenance": [],
      "authorship_tag": "ABX9TyP6UCAN/jY/qUa5Nsmxo3n5",
      "include_colab_link": true
    },
    "kernelspec": {
      "name": "python3",
      "display_name": "Python 3"
    },
    "language_info": {
      "name": "python"
    }
  },
  "cells": [
    {
      "cell_type": "markdown",
      "metadata": {
        "id": "view-in-github",
        "colab_type": "text"
      },
      "source": [
        "<a href=\"https://colab.research.google.com/github/Potdooshami/The-3rd-POSTECH-Youth-Mathematical-Artificial-Intelligence-Academy/blob/main/PYMAIA3_%ED%8C%8C%EC%9D%B4%EC%8D%AC%EC%8B%A4%EC%8A%B5.ipynb\" target=\"_parent\"><img src=\"https://colab.research.google.com/assets/colab-badge.svg\" alt=\"Open In Colab\"/></a>"
      ]
    },
    {
      "cell_type": "markdown",
      "source": [
        "#1 Hello **World**"
      ],
      "metadata": {
        "id": "XFXhm9Jq01nk"
      }
    },
    {
      "cell_type": "code",
      "execution_count": null,
      "metadata": {
        "colab": {
          "base_uri": "https://localhost:8080/"
        },
        "id": "TYR09x6-HNB6",
        "outputId": "acf88d48-f357-4eea-9dae-6daf8ca91274"
      },
      "outputs": [
        {
          "output_type": "stream",
          "name": "stdout",
          "text": [
            "hello world!\n",
            "헬로 월드\n"
          ]
        }
      ],
      "source": [
        "print('hello world!') #알파벳과 몇개의 특수문자를 포함하여 컴퓨터에게 명령을 시킬 수 있다.(모든 프로그래밍 언어의 공통점)\n",
        "print('헬로 월드') #한글로"
      ]
    },
    {
      "cell_type": "code",
      "source": [
        "print('hello world' #오류1: 모든 글자의 나열이 컴퓨터에게 명령을 내릴 수는 없다. syntax(문법)에 맞게"
      ],
      "metadata": {
        "colab": {
          "base_uri": "https://localhost:8080/",
          "height": 112
        },
        "id": "zU4EhW4kIFvg",
        "outputId": "0f24e3df-3da6-4d1b-fbcf-3d7c137ef7bf"
      },
      "execution_count": null,
      "outputs": [
        {
          "output_type": "error",
          "ename": "SyntaxError",
          "evalue": "incomplete input (<ipython-input-11-752da5f88a6b>, line 1)",
          "traceback": [
            "\u001b[0;36m  File \u001b[0;32m\"<ipython-input-11-752da5f88a6b>\"\u001b[0;36m, line \u001b[0;32m1\u001b[0m\n\u001b[0;31m    print('hello world' #오류1: 모든 글자의 나열이 컴퓨터에게 명령을 내릴 수는 없다. syntax(문법)에 맞게\u001b[0m\n\u001b[0m                                                                           ^\u001b[0m\n\u001b[0;31mSyntaxError\u001b[0m\u001b[0;31m:\u001b[0m incomplete input\n"
          ]
        }
      ]
    },
    {
      "cell_type": "code",
      "source": [
        "rint('hello world') #오류2: 출력이 다른 걸 확인 가능하다. 오류의 원인은 여러가지이다."
      ],
      "metadata": {
        "id": "dpjGZmlFIIj1",
        "colab": {
          "base_uri": "https://localhost:8080/",
          "height": 228
        },
        "outputId": "3770e147-0618-4fd0-9e15-0bbe50d34ac2"
      },
      "execution_count": null,
      "outputs": [
        {
          "output_type": "error",
          "ename": "NameError",
          "evalue": "name 'rint' is not defined",
          "traceback": [
            "\u001b[0;31m---------------------------------------------------------------------------\u001b[0m",
            "\u001b[0;31mNameError\u001b[0m                                 Traceback (most recent call last)",
            "\u001b[0;32m<ipython-input-1-917a046b2e40>\u001b[0m in \u001b[0;36m<cell line: 1>\u001b[0;34m()\u001b[0m\n\u001b[0;32m----> 1\u001b[0;31m \u001b[0mrint\u001b[0m\u001b[0;34m(\u001b[0m\u001b[0;34m'hello world'\u001b[0m\u001b[0;34m)\u001b[0m \u001b[0;31m#오류2: 출력이 다른 걸 확인 가능하다. 오류의 원인은 여러가지이다.\u001b[0m\u001b[0;34m\u001b[0m\u001b[0;34m\u001b[0m\u001b[0m\n\u001b[0m",
            "\u001b[0;31mNameError\u001b[0m: name 'rint' is not defined"
          ]
        }
      ]
    },
    {
      "cell_type": "code",
      "source": [
        "print('hell world') # 문법적으로 맞다고 모두 의미있는 결과인 것은 아니다.컴퓨터는 의미를 생각하지 않는다. 그저 시킨 일을 묵묵히 수행할 뿐이다."
      ],
      "metadata": {
        "id": "vaPqlKg8IP4S",
        "colab": {
          "base_uri": "https://localhost:8080/"
        },
        "outputId": "27ce1ba7-8c67-4058-c560-fcb9b0de99d1"
      },
      "execution_count": null,
      "outputs": [
        {
          "output_type": "stream",
          "name": "stdout",
          "text": [
            "hell world\n"
          ]
        }
      ]
    },
    {
      "cell_type": "markdown",
      "source": [
        "#2 변수"
      ],
      "metadata": {
        "id": "U9wPxc9-1BtK"
      }
    },
    {
      "cell_type": "markdown",
      "source": [
        "##원시 변수"
      ],
      "metadata": {
        "id": "VoGzZ-fbfkI1"
      }
    },
    {
      "cell_type": "markdown",
      "source": [
        "### 숫자형"
      ],
      "metadata": {
        "id": "bWe4ZdwNjgyj"
      }
    },
    {
      "cell_type": "code",
      "source": [
        "x = 1.1 #x라는 변수에 1이라는 값을 넣는다.\n",
        "y = 3 #y라는 변수에 3이라는 값을 넣는다.\n",
        "#아무 일도 안 일어 난다...."
      ],
      "metadata": {
        "id": "T9ADhrUj1RmI"
      },
      "execution_count": null,
      "outputs": []
    },
    {
      "cell_type": "code",
      "source": [
        "print(x)\n",
        "print(y)\n",
        "# 컴퓨터 메모리 상에 제대로 저장이 되었는지 확인하기 위해서는 print()라는 함수를 사용하면 된다."
      ],
      "metadata": {
        "id": "a6HDMvR41YlR"
      },
      "execution_count": null,
      "outputs": []
    },
    {
      "cell_type": "code",
      "source": [
        "print(type(x));print(type(y))"
      ],
      "metadata": {
        "colab": {
          "base_uri": "https://localhost:8080/"
        },
        "id": "9x_3CBRADLZ1",
        "outputId": "4fe43490-f8a6-446a-cbba-e47d8c2dff87"
      },
      "execution_count": null,
      "outputs": [
        {
          "output_type": "stream",
          "name": "stdout",
          "text": [
            "<class 'float'>\n",
            "<class 'int'>\n"
          ]
        }
      ]
    },
    {
      "cell_type": "code",
      "source": [
        "print(x+y,x-y,x*y,x/y)# 3번째 같은 상황... int를 따로 쓰는 이유"
      ],
      "metadata": {
        "colab": {
          "base_uri": "https://localhost:8080/"
        },
        "id": "VBtV6aGLOu5d",
        "outputId": "adc7e564-d743-4a77-dc73-2411216c7e84"
      },
      "execution_count": null,
      "outputs": [
        {
          "output_type": "stream",
          "name": "stdout",
          "text": [
            "4.1 -1.9 3.3000000000000003 0.3666666666666667\n"
          ]
        }
      ]
    },
    {
      "cell_type": "markdown",
      "source": [
        "###문자형"
      ],
      "metadata": {
        "id": "3QUxZur3jlD1"
      }
    },
    {
      "cell_type": "code",
      "source": [
        "s1 = 'academy'\n",
        "s2 = 'hello world!'\n",
        "print(s1,s2,type(s1),type(s1))\n",
        "print(s1+s2)"
      ],
      "metadata": {
        "colab": {
          "base_uri": "https://localhost:8080/"
        },
        "id": "0OdJVL2OCbSH",
        "outputId": "8cabfd5a-b3bf-4474-fe65-1ed234e67f7f"
      },
      "execution_count": null,
      "outputs": [
        {
          "output_type": "stream",
          "name": "stdout",
          "text": [
            "academy hello world! <class 'str'> <class 'str'>\n",
            "academyhello world!\n"
          ]
        }
      ]
    },
    {
      "cell_type": "markdown",
      "source": [
        "###부울형"
      ],
      "metadata": {
        "id": "DJ0ui3Shjwbl"
      }
    },
    {
      "cell_type": "markdown",
      "source": [
        "## 컨테이너형 변수"
      ],
      "metadata": {
        "id": "UlU7hy20eQyW"
      }
    },
    {
      "cell_type": "markdown",
      "source": [
        "###리스트"
      ],
      "metadata": {
        "id": "jxxVSUNFnttZ"
      }
    },
    {
      "cell_type": "code",
      "source": [
        "list1 = [1, 2, 3, 4, 5] # 리스트는 순서가 있는 여러 개의 값을 저장할 수 있는 컨테이너형 변수입니다.\n",
        "list2 = [\"apple\", \"banana\", \"cherry\"]\n",
        "list3 = [1, \"hello\", True]\n",
        "\n",
        "print(list1)\n",
        "print(list2)\n",
        "print(list3)"
      ],
      "metadata": {
        "colab": {
          "base_uri": "https://localhost:8080/"
        },
        "id": "m5_GcqLJ0o0P",
        "outputId": "19e61564-5b10-4e95-d749-b23c1cb47313"
      },
      "execution_count": null,
      "outputs": [
        {
          "output_type": "stream",
          "name": "stdout",
          "text": [
            "[1, 2, 3, 4, 5]\n",
            "['apple', 'banana', 'cherry']\n",
            "[1, 'hello', True]\n"
          ]
        }
      ]
    },
    {
      "cell_type": "code",
      "source": [
        "# 리스트의 요소에 접근하기\n",
        "print(list1[0]) # 첫 번째 요소 출력\n",
        "print(list2[1]) # 두 번째 요소 출력\n",
        "\n",
        "# 리스트의 요소 변경하기\n",
        "list1[0] = 10\n",
        "print(list1)\n",
        "\n",
        "# 리스트에 요소 추가하기\n",
        "list2.append(\"date\")\n",
        "print(list2)\n",
        "\n",
        "# 리스트에서 요소 제거하기\n",
        "list3.remove(\"hello\")\n",
        "print(list3)\n",
        "\n",
        "# 리스트의 길이 확인하기\n",
        "print(len(list1))\n",
        "\n",
        "# 리스트 슬라이싱\n",
        "print(list1[1:4]) # 인덱스 1부터 3까지의 요소 출력"
      ],
      "metadata": {
        "colab": {
          "base_uri": "https://localhost:8080/"
        },
        "id": "Hm2m8gfx00z_",
        "outputId": "0a10cfbe-c396-471e-b117-beac23089a99"
      },
      "execution_count": null,
      "outputs": [
        {
          "output_type": "stream",
          "name": "stdout",
          "text": [
            "1\n",
            "banana\n",
            "[10, 2, 3, 4, 5]\n",
            "['apple', 'banana', 'cherry', 'date']\n",
            "[1, True]\n",
            "5\n",
            "[2, 3, 4]\n"
          ]
        }
      ]
    },
    {
      "cell_type": "markdown",
      "source": [
        "###집합"
      ],
      "metadata": {
        "id": "JdFnliadn0Nl"
      }
    },
    {
      "cell_type": "code",
      "source": [
        "set_ = {1,1,2}\n",
        "print(set_) #집합은 중복을 허용하지 않는다."
      ],
      "metadata": {
        "colab": {
          "base_uri": "https://localhost:8080/"
        },
        "id": "SWl0JB3ifFu4",
        "outputId": "40a7131a-15db-46d4-8c28-6f95ba98454f"
      },
      "execution_count": null,
      "outputs": [
        {
          "output_type": "stream",
          "name": "stdout",
          "text": [
            "{1, 2}\n"
          ]
        }
      ]
    },
    {
      "cell_type": "code",
      "source": [
        "set1 ={'a','b','c','1'}\n",
        "set2 ={'b','c',1}\n",
        "# 합집합\n",
        "print(\"Union:\", set1 | set2)\n",
        "\n",
        "# 교집합\n",
        "print(\"Intersection:\", set1 & set2)\n",
        "\n",
        "# 차집합\n",
        "print(\"Difference:\", set1 - set2)"
      ],
      "metadata": {
        "colab": {
          "base_uri": "https://localhost:8080/"
        },
        "id": "nkX__2u8zITK",
        "outputId": "9aa5cc5b-76f5-4a19-ec9f-2ff8ca6d8b2a"
      },
      "execution_count": null,
      "outputs": [
        {
          "output_type": "stream",
          "name": "stdout",
          "text": [
            "Union: {'1', 1, 'b', 'c', 'a'}\n",
            "Intersection: {'c', 'b'}\n",
            "Difference: {'1', 'a'}\n"
          ]
        }
      ]
    },
    {
      "cell_type": "markdown",
      "source": [
        "###튜플\n"
      ],
      "metadata": {
        "id": "caPlqGBAn5Jq"
      }
    },
    {
      "cell_type": "code",
      "source": [
        "# prompt: 튜플에 대해 설명해줘.\n",
        "\n",
        "my_tuple = (1, 2, 3)\n",
        "print(my_tuple)\n",
        "\n",
        "another_tuple = (\"apple\", \"banana\", \"cherry\")\n",
        "print(another_tuple)\n",
        "\n",
        "mixed_tuple = (1, \"hello\", True)\n",
        "mixed_tuple\n"
      ],
      "metadata": {
        "id": "GDi2y97T05Cp"
      },
      "execution_count": null,
      "outputs": []
    },
    {
      "cell_type": "markdown",
      "source": [
        "#3 함수"
      ],
      "metadata": {
        "id": "AvWsTQ2h1uXO"
      }
    },
    {
      "cell_type": "markdown",
      "source": [
        "## 내장함수"
      ],
      "metadata": {
        "id": "CnRPjmqsoRu6"
      }
    },
    {
      "cell_type": "code",
      "source": [
        "#내장함수\n",
        "#위에서 쓴 print(), type()도 함수임\n",
        "#사칙연산도 사실 함수로 볼 수 있다. input: 2개의 인풋에 하나의 아웃풋을 가지는 함수이다.\n",
        "print(abs(x-y))# 다른 예시 abs와 float\n",
        "one = 1\n",
        "one_flt =  float(one)\n",
        "print(one)\n",
        "print(one_flt)\n",
        "print(type(one),type(one_flt))"
      ],
      "metadata": {
        "colab": {
          "base_uri": "https://localhost:8080/"
        },
        "id": "hQkAazx01vH8",
        "outputId": "b19542f2-5b41-4431-c4f6-a601db5c82c0"
      },
      "execution_count": null,
      "outputs": [
        {
          "output_type": "stream",
          "name": "stdout",
          "text": [
            "1.9\n",
            "1\n",
            "1.0\n",
            "<class 'int'> <class 'float'>\n"
          ]
        }
      ]
    },
    {
      "cell_type": "markdown",
      "source": [
        "##사용자 정의 함수"
      ],
      "metadata": {
        "id": "jjU0-rYHoVUw"
      }
    },
    {
      "cell_type": "code",
      "source": [
        "def diff(x,y):\n",
        "  return abs(x-y)\n",
        "def pt(a):\n",
        "  print(type(a))\n",
        "\n",
        "\n",
        "print(diff(x,y))\n",
        "print(diff(one,one_flt))\n",
        "pt(one)\n",
        "pt(one_flt)\n",
        "\n",
        "# 지금 배워 둔 기본 함수, 변수가 너무 적어\n",
        "#변수와 마찬가지로 함수는 재사용 가능하다.반복적으로 사용하는 구문을 함수로 만들어서 재사용하는 것은 좋은 프로그래밍의 핵심 전략"
      ],
      "metadata": {
        "colab": {
          "base_uri": "https://localhost:8080/"
        },
        "id": "hoWCOLOMG3if",
        "outputId": "d14ceac0-c629-447d-e1ad-95cc7f4cbe4b"
      },
      "execution_count": null,
      "outputs": [
        {
          "output_type": "stream",
          "name": "stdout",
          "text": [
            "1.9\n",
            "0.0\n",
            "<class 'int'>\n",
            "<class 'float'>\n"
          ]
        }
      ]
    },
    {
      "cell_type": "markdown",
      "source": [
        "#4 제어문"
      ],
      "metadata": {
        "id": "d-MRsdhsvUPP"
      }
    },
    {
      "cell_type": "markdown",
      "source": [
        "##if"
      ],
      "metadata": {
        "id": "4xqa85mA2iS4"
      }
    },
    {
      "cell_type": "code",
      "source": [
        "a = 22\n",
        "if a>10:\n",
        "  print('a is bigger than 10')\n",
        "else:\n",
        "  print('a is smaller than 10')"
      ],
      "metadata": {
        "colab": {
          "base_uri": "https://localhost:8080/"
        },
        "id": "u33j6MxGyG_1",
        "outputId": "feac44b1-022d-4e18-b1e7-bf511205feda"
      },
      "execution_count": null,
      "outputs": [
        {
          "output_type": "stream",
          "name": "stdout",
          "text": [
            "a is bigger than 10\n"
          ]
        }
      ]
    },
    {
      "cell_type": "markdown",
      "source": [
        "##for"
      ],
      "metadata": {
        "id": "8xHlLbRo2bDM"
      }
    },
    {
      "cell_type": "code",
      "source": [
        "#for 반복문, 반복횟수를 정해 놓는다.\n",
        "for i in range(5):\n",
        "  print(i)\n",
        "\n",
        "list_ = [1,2,3,4,5]\n",
        "for item in list_:\n",
        "  print(item)\n"
      ],
      "metadata": {
        "id": "uUK_fPC_1S2k"
      },
      "execution_count": null,
      "outputs": []
    },
    {
      "cell_type": "markdown",
      "source": [
        "##while"
      ],
      "metadata": {
        "id": "FW840LbR2ctm"
      }
    },
    {
      "cell_type": "code",
      "source": [
        "#for 반복문, 반복횟수를 정해 놓는다.\n",
        "i = 1\n",
        "while i <= 5:\n",
        "    print(i)\n",
        "    i += 1"
      ],
      "metadata": {
        "colab": {
          "base_uri": "https://localhost:8080/"
        },
        "id": "8hWSY0E8PW8V",
        "outputId": "f18188b0-9d9b-4cae-ecf4-b617e08a9540"
      },
      "execution_count": null,
      "outputs": [
        {
          "output_type": "stream",
          "name": "stdout",
          "text": [
            "1\n",
            "2\n",
            "3\n",
            "4\n",
            "5\n"
          ]
        }
      ]
    },
    {
      "cell_type": "markdown",
      "source": [
        "# 5 라이브러리"
      ],
      "metadata": {
        "id": "kI0Nbjc4vYyp"
      }
    },
    {
      "cell_type": "code",
      "source": [
        "#외장함수(라고 생각하면 된다)\n",
        "import numpy as np #array라는 자료형 제공해서 python 보완\n",
        "import pandas as pd #dataframe\n",
        "import matplotlib.pyplot as plt #시각화\n",
        "import seaborn as sns # 시각화2"
      ],
      "metadata": {
        "id": "t1V4FhyOPJWT"
      },
      "execution_count": null,
      "outputs": []
    },
    {
      "cell_type": "code",
      "source": [
        "[1,2,3] +[21]\n",
        "np.array([1,2,3]) + np.array([2,3,1])"
      ],
      "metadata": {
        "colab": {
          "base_uri": "https://localhost:8080/"
        },
        "id": "VGHZvDjSx82L",
        "outputId": "05017abb-5efc-419c-9cf3-341ef465751a"
      },
      "execution_count": null,
      "outputs": [
        {
          "output_type": "execute_result",
          "data": {
            "text/plain": [
              "array([3, 5, 4])"
            ]
          },
          "metadata": {},
          "execution_count": 8
        }
      ]
    },
    {
      "cell_type": "code",
      "source": [
        "#그래프 시각화\n",
        "xs = [0,1,2,3,4,5,6,7,8,9,10]\n",
        "ys = [0,1,4,9,16,25,36,49,64,81,100]\n",
        "plt.plot(xs,ys)"
      ],
      "metadata": {
        "colab": {
          "base_uri": "https://localhost:8080/",
          "height": 449
        },
        "id": "1qI5AUAP1_LP",
        "outputId": "ba2095bb-c9d1-4eba-86af-a5d69ea6e103"
      },
      "execution_count": null,
      "outputs": [
        {
          "output_type": "execute_result",
          "data": {
            "text/plain": [
              "[<matplotlib.lines.Line2D at 0x79d41ea71bd0>]"
            ]
          },
          "metadata": {},
          "execution_count": 18
        },
        {
          "output_type": "display_data",
          "data": {
            "text/plain": [
              "<Figure size 640x480 with 1 Axes>"
            ],
            "image/png": "[encoded data removed]"
          },
          "metadata": {}
        }
      ]
    },
    {
      "cell_type": "code",
      "source": [
        "plt.plot(xs,ys,'ro-')\n",
        "plt.title('y=x^2')\n",
        "plt.xlabel('x')\n",
        "plt.ylabel('y')\n",
        "# 여러가지 명령어를 사용하면 그래프를 더 세세하게 설정하고 예쁘게 그려진다."
      ],
      "metadata": {
        "colab": {
          "base_uri": "https://localhost:8080/",
          "height": 491
        },
        "id": "KwVFyUt63ob-",
        "outputId": "9571d7dd-6979-4e8b-d392-f80da296505d"
      },
      "execution_count": null,
      "outputs": [
        {
          "output_type": "execute_result",
          "data": {
            "text/plain": [
              "Text(0, 0.5, 'y')"
            ]
          },
          "metadata": {},
          "execution_count": 19
        },
        {
          "output_type": "display_data",
          "data": {
            "text/plain": [
              "<Figure size 640x480 with 1 Axes>"
            ],
            "image/png": "[encoded data removed]"
          },
          "metadata": {}
        }
      ]
    }
  ]
}